{
 "cells": [
  {
   "cell_type": "code",
   "execution_count": 1,
   "metadata": {},
   "outputs": [],
   "source": [
    "import pandas as pd"
   ]
  },
  {
   "cell_type": "code",
   "execution_count": 2,
   "metadata": {},
   "outputs": [],
   "source": [
    "import numpy as np"
   ]
  },
  {
   "cell_type": "markdown",
   "metadata": {},
   "source": [
    "### 1"
   ]
  },
  {
   "cell_type": "code",
   "execution_count": 13,
   "metadata": {},
   "outputs": [
    {
     "name": "stdout",
     "output_type": "stream",
     "text": [
      "6    python\n",
      "7      java\n",
      "8      ruby\n",
      "9    pandas\n",
      "dtype: object\n",
      "9    pandas\n",
      "8      ruby\n",
      "7      java\n",
      "6    python\n",
      "dtype: object\n"
     ]
    }
   ],
   "source": [
    "s=pd.Series(data=['python','java','ruby','pandas'],index=[6,7,8,9])\n",
    "print(s)\n",
    "s=s.reindex(index=[9,8,7,6])\n",
    "print(s)\n"
   ]
  },
  {
   "cell_type": "markdown",
   "metadata": {},
   "source": [
    "### 2."
   ]
  },
  {
   "cell_type": "code",
   "execution_count": 5,
   "metadata": {},
   "outputs": [
    {
     "name": "stdout",
     "output_type": "stream",
     "text": [
      "0     3\n",
      "1     7\n",
      "2    11\n",
      "3    15\n",
      "dtype: int64\n",
      "0    1\n",
      "1    1\n",
      "2    1\n",
      "3    1\n",
      "dtype: int64\n",
      "0     2\n",
      "1    12\n",
      "2    30\n",
      "3    56\n",
      "dtype: int64\n",
      "0    2.000000\n",
      "1    1.333333\n",
      "2    1.200000\n",
      "3    1.142857\n",
      "dtype: float64\n"
     ]
    }
   ],
   "source": [
    "sample1=pd.Series([2,4,6,8])\n",
    "sample2=pd.Series([1,3,5,7])\n",
    "addition=sample1+sample2\n",
    "subtraction=sample1-sample2\n",
    "product=sample1*sample2\n",
    "division=sample1/sample2\n",
    "print(addition)\n",
    "print(subtraction)\n",
    "print(product)\n",
    "print(division)"
   ]
  },
  {
   "cell_type": "markdown",
   "metadata": {},
   "source": [
    "### 3"
   ]
  },
  {
   "cell_type": "code",
   "execution_count": 6,
   "metadata": {},
   "outputs": [
    {
     "name": "stdout",
     "output_type": "stream",
     "text": [
      "<class 'pandas.core.series.Series'>\n",
      "[1, 5, 7, 9]\n",
      "<class 'list'>\n"
     ]
    }
   ],
   "source": [
    "sample=pd.Series([1,5,7,9])\n",
    "type(sample)\n",
    "print(type(sample))\n",
    "print(sample.tolist())\n",
    "print(type(sample.tolist()))\n"
   ]
  },
  {
   "cell_type": "markdown",
   "metadata": {},
   "source": [
    "### 4"
   ]
  },
  {
   "cell_type": "code",
   "execution_count": 7,
   "metadata": {},
   "outputs": [
    {
     "name": "stdout",
     "output_type": "stream",
     "text": [
      "         score  attempts qualify labels\n",
      "Johnson    NaN         3      no      d\n",
      "Kambli     NaN         1      no      h\n"
     ]
    }
   ],
   "source": [
    "name=['Sachin','Ganguly','Kohli','Johnson','Taylor','Waugh',\n",
    "'Yuvraj','Kambli','Srinath','Munaf']\n",
    "score=[12.5,9,16.5,np.nan,9,20,14.5,np.nan,8,19]\n",
    "attempts=[1,3,2,3,2,3,1,1,2,1]\n",
    "qualify=['yes','no','yes','no','no','yes','yes','no','no','yes']\n",
    "labels=['a','b','c','d','e','f','g','h','i','j']\n",
    "dataframe={'score':score,'attempts':attempts,'qualify':qualify,\n",
    "'labels':labels}\n",
    "examdata=pd.DataFrame(dataframe,index=name)\n",
    "print(examdata[examdata['score'].isnull()])"
   ]
  },
  {
   "cell_type": "markdown",
   "metadata": {},
   "source": [
    "### 5"
   ]
  },
  {
   "cell_type": "code",
   "execution_count": 8,
   "metadata": {},
   "outputs": [
    {
     "name": "stdout",
     "output_type": "stream",
     "text": [
      "2019-12-31\n"
     ]
    }
   ],
   "source": [
    "print(pd.datetime.now().date())"
   ]
  },
  {
   "cell_type": "markdown",
   "metadata": {},
   "source": [
    "### 6"
   ]
  },
  {
   "cell_type": "code",
   "execution_count": 11,
   "metadata": {},
   "outputs": [
    {
     "name": "stdout",
     "output_type": "stream",
     "text": [
      "                  Fare  Parch  PassengerId  Pclass  SibSp  Survived\n",
      "Sex    Age                                                         \n",
      "female 0.75    38.5166      2         1115       6      4         2\n",
      "       1.00    26.8750      3          555       6      1         2\n",
      "       2.00   259.4750      9         2278      15      9         2\n",
      "       3.00    62.6542      3          419       5      4         1\n",
      "       4.00   114.1417      6         2258      13      4         5\n",
      "       5.00    90.8708      5         1520      11      7         4\n",
      "       6.00    64.2750      3         1535       5      4         1\n",
      "       7.00    26.2500      2          536       2      0         1\n",
      "       8.00    47.3250      3          263       5      3         1\n",
      "       9.00   108.7958      7         2178      12     10         0\n",
      "       10.00   24.1500      2          420       3      0         0\n",
      "       11.00   31.2750      2          543       3      4         0\n",
      "       13.00   26.7292      1         1228       5      0         2\n",
      "       14.00  169.1667      2          501       9      3         3\n",
      "       14.50   14.4542      0          112       3      1         0\n",
      "       15.00  241.0459      1         2420      10      1         4\n",
      "       16.00  246.2625      4         2127      12      5         5\n",
      "       17.00  210.7833      2         1749      12      6         5\n",
      "       18.00  697.0167      9         7245      31      6         8\n",
      "       19.00  215.0959      2         2530      13      3         7\n",
      "       20.00   18.4875      0          519       6      1         0\n",
      "       21.00  410.4333      4         2877      16      5         4\n",
      "       22.00  444.1084      6         5413      26      3        10\n",
      "       23.00  405.5417      2         2424      10      4         4\n",
      "       24.00  772.1708     15         6833      31     10        14\n",
      "       25.00  223.2500      4         2938      11      3         2\n",
      "       26.00  136.7292      1         1541      12      2         3\n",
      "       27.00   76.8916      3         2677      15      2         5\n",
      "       28.00  110.9458      1         3307      16      3         5\n",
      "       29.00  320.6208      7         2062      16      3         5\n",
      "...                ...    ...          ...     ...    ...       ...\n",
      "male   42.00  216.1084      1         4117      21      3         3\n",
      "       43.00   40.7500      1         1803       8      1         0\n",
      "       44.00  156.1250      1         2360      15      3         1\n",
      "       45.00  187.1000      0         1597      10      1         2\n",
      "       45.50   35.7250      0          536       4      0         0\n",
      "       46.00  166.3750      0         1281       4      1         0\n",
      "       47.00  181.3583      0         3807      12      0         0\n",
      "       48.00  176.1334      0         3056       8      2         3\n",
      "       49.00  256.9167      1         2351       6      3         2\n",
      "       50.00  317.0250      0         2848       8      4         1\n",
      "       51.00  123.3084      1         2427      13      0         1\n",
      "       52.00  136.6500      1         2124       6      1         1\n",
      "       54.00  195.1500      1         1283       8      1         0\n",
      "       55.00   30.5000      0          493       1      0         0\n",
      "       55.50    8.0500      0          153       3      0         0\n",
      "       56.00   92.7458      0         1291       3      0         1\n",
      "       57.00   12.3500      0          627       2      0         0\n",
      "       58.00  142.9750      2         1148       2      0         0\n",
      "       59.00   20.7500      0          328       5      0         0\n",
      "       60.00  144.7500      2         1968       4      2         1\n",
      "       61.00   72.0583      0         1124       5      0         0\n",
      "       62.00   63.6000      0         1380       4      0         1\n",
      "       64.00  289.0000      4          985       2      1         0\n",
      "       65.00   96.2792      1          793       5      0         0\n",
      "       66.00   10.5000      0           34       2      0         0\n",
      "       70.00   81.5000      1         1419       3      1         0\n",
      "       70.50    7.7500      0          117       3      0         0\n",
      "       71.00   84.1584      0          591       2      0         0\n",
      "       74.00    7.7750      0          852       3      0         0\n",
      "       80.00   30.0000      0          631       1      0         1\n",
      "\n",
      "[145 rows x 6 columns]\n"
     ]
    }
   ],
   "source": [
    "dd=pd.read_csv('titanic.csv')\n",
    "result=pd.pivot_table(dd,index=['Sex','Age'],aggfunc=np.sum)\n",
    "print(result)"
   ]
  },
  {
   "cell_type": "markdown",
   "metadata": {},
   "source": [
    "### 7"
   ]
  },
  {
   "cell_type": "code",
   "execution_count": 14,
   "metadata": {},
   "outputs": [
    {
     "data": {
      "text/plain": [
       "array([[ 2,  3,  4],\n",
       "       [ 5,  6,  7],\n",
       "       [ 8,  9, 10]])"
      ]
     },
     "execution_count": 14,
     "metadata": {},
     "output_type": "execute_result"
    }
   ],
   "source": [
    "np.arange(2,11).reshape(3,3)"
   ]
  },
  {
   "cell_type": "markdown",
   "metadata": {},
   "source": [
    "# 8"
   ]
  },
  {
   "cell_type": "code",
   "execution_count": 15,
   "metadata": {},
   "outputs": [
    {
     "name": "stdout",
     "output_type": "stream",
     "text": [
      "[1 2 3 4 5 6 7 8 9]\n",
      "[1 2 3 4 5 6 7 8 9]\n"
     ]
    }
   ],
   "source": [
    "d=np.arange(1,10).reshape(3,3)\n",
    "print(d.flatten())\n",
    "print(d.ravel())"
   ]
  },
  {
   "cell_type": "markdown",
   "metadata": {},
   "source": [
    "# 9"
   ]
  },
  {
   "cell_type": "code",
   "execution_count": 16,
   "metadata": {},
   "outputs": [
    {
     "name": "stdout",
     "output_type": "stream",
     "text": [
      "[[0.59642396 0.51359009 0.0819883 ]\n",
      " [0.91792969 0.59625721 0.69539   ]\n",
      " [0.99580848 0.98914295 0.23221512]]\n",
      "0.08198829929315621\n",
      "0.9958084816833171\n",
      "0.3025913645233112\n",
      "0.08198829929315621\n"
     ]
    }
   ],
   "source": [
    "t=np.random.random((3,3))\n",
    "print(t)\n",
    "print(np.min(t))\n",
    "print(np.max(t))\n",
    "print(np.std(t))\n",
    "print(np.min(t))\n",
    "\n"
   ]
  },
  {
   "cell_type": "markdown",
   "metadata": {},
   "source": [
    "# 10"
   ]
  },
  {
   "cell_type": "code",
   "execution_count": 17,
   "metadata": {},
   "outputs": [
    {
     "name": "stdout",
     "output_type": "stream",
     "text": [
      "[[0.69970563 0.38057638 0.94195093]\n",
      " [0.32371208 0.57066874 0.02290698]\n",
      " [0.91747449 0.76093891 0.60898439]\n",
      " [0.05743147 0.30649655 0.22633382]\n",
      " [0.46517117 0.47553246 0.34336032]\n",
      " [0.7845828  0.83032461 0.71152841]]\n",
      "[[0.69970563 0.38057638 0.94195093 0.05743147 0.30649655 0.22633382]\n",
      " [0.32371208 0.57066874 0.02290698 0.46517117 0.47553246 0.34336032]\n",
      " [0.91747449 0.76093891 0.60898439 0.7845828  0.83032461 0.71152841]]\n"
     ]
    }
   ],
   "source": [
    "w=np.random.random((3,3))\n",
    "r=np.random.random((3,3))\n",
    "print(np.vstack((w,r)))\n",
    "print(np.hstack((w,r)))\n",
    "\n"
   ]
  },
  {
   "cell_type": "code",
   "execution_count": null,
   "metadata": {},
   "outputs": [],
   "source": []
  }
 ],
 "metadata": {
  "kernelspec": {
   "display_name": "Python 3",
   "language": "python",
   "name": "python3"
  },
  "language_info": {
   "codemirror_mode": {
    "name": "ipython",
    "version": 3
   },
   "file_extension": ".py",
   "mimetype": "text/x-python",
   "name": "python",
   "nbconvert_exporter": "python",
   "pygments_lexer": "ipython3",
   "version": "3.7.3"
  }
 },
 "nbformat": 4,
 "nbformat_minor": 2
}
