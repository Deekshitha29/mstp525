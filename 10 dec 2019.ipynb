{
 "cells": [
  {
   "cell_type": "markdown",
   "metadata": {},
   "source": [
    "[02468]$|[0-9]*[02468]"
   ]
  },
  {
   "cell_type": "markdown",
   "metadata": {},
   "source": [
    "## user name"
   ]
  },
  {
   "cell_type": "markdown",
   "metadata": {},
   "source": [
    "- min 6 and max 20 {6,20}\n",
    "- [a-z 0-9]\n",
    "- .\n",
    "- @"
   ]
  },
  {
   "cell_type": "markdown",
   "metadata": {},
   "source": [
    "## domain"
   ]
  },
  {
   "cell_type": "markdown",
   "metadata": {},
   "source": [
    "- [a-z] {5,15}\n",
    "- ."
   ]
  },
  {
   "cell_type": "markdown",
   "metadata": {},
   "source": [
    "## extension"
   ]
  },
  {
   "cell_type": "markdown",
   "metadata": {},
   "source": [
    "- [a-z]{2,5}\n",
    "\n",
    "\n",
    "- google.com\n",
    "- www.google.com\n",
    "- google.co.in\n",
    "- w3schools.com\n",
    "- 32google.com"
   ]
  },
  {
   "cell_type": "code",
   "execution_count": 3,
   "metadata": {},
   "outputs": [],
   "source": [
    "import re"
   ]
  },
  {
   "cell_type": "code",
   "execution_count": 4,
   "metadata": {},
   "outputs": [
    {
     "name": "stdout",
     "output_type": "stream",
     "text": [
      "7\n",
      "16\n",
      "23\n",
      "24\n",
      "27\n",
      "33\n",
      "36\n",
      "40\n",
      "46\n",
      "46\n",
      "51\n",
      "58\n",
      "63\n",
      "70\n",
      "78\n",
      "87\n",
      "91\n",
      "98\n",
      "98\n",
      "99\n",
      "101\n",
      "105\n",
      "106\n",
      "108\n",
      "110\n",
      "111\n",
      "117\n",
      "126\n",
      "133\n",
      "141\n",
      "144\n",
      "145\n",
      "151\n",
      "160\n",
      "160\n",
      "165\n",
      "173\n",
      "182\n",
      "187\n",
      "192\n",
      "199\n",
      "201\n",
      "207\n",
      "215\n",
      "215\n",
      "222\n",
      "228\n",
      "229\n",
      "230\n",
      "239\n",
      "248\n",
      "251\n",
      "258\n",
      "260\n",
      "261\n",
      "269\n",
      "271\n",
      "272\n",
      "275\n",
      "276\n",
      "280\n",
      "285\n",
      "288\n",
      "291\n",
      "291\n",
      "297\n",
      "302\n",
      "307\n",
      "315\n",
      "319\n",
      "320\n",
      "320\n",
      "328\n",
      "330\n",
      "334\n",
      "337\n",
      "346\n",
      "352\n",
      "359\n",
      "361\n",
      "366\n",
      "370\n",
      "377\n",
      "385\n",
      "387\n",
      "390\n",
      "397\n",
      "397\n",
      "399\n",
      "403\n",
      "403\n",
      "405\n",
      "409\n",
      "414\n",
      "415\n",
      "420\n",
      "421\n",
      "427\n",
      "433\n",
      "442\n",
      "445\n",
      "450\n",
      "458\n",
      "459\n",
      "461\n",
      "461\n",
      "461\n",
      "461\n",
      "463\n",
      "467\n",
      "474\n",
      "481\n",
      "489\n",
      "493\n",
      "495\n",
      "504\n",
      "511\n",
      "516\n",
      "521\n",
      "528\n",
      "533\n",
      "535\n",
      "542\n",
      "544\n",
      "551\n",
      "552\n",
      "561\n",
      "564\n",
      "568\n",
      "575\n",
      "584\n",
      "584\n",
      "585\n",
      "586\n",
      "590\n",
      "593\n",
      "600\n",
      "607\n",
      "611\n",
      "618\n",
      "619\n",
      "626\n",
      "635\n",
      "643\n",
      "646\n",
      "652\n",
      "652\n",
      "656\n",
      "660\n",
      "662\n",
      "667\n",
      "669\n",
      "675\n",
      "681\n",
      "689\n",
      "695\n",
      "702\n",
      "706\n",
      "707\n",
      "712\n",
      "719\n",
      "726\n",
      "728\n",
      "732\n",
      "735\n",
      "740\n",
      "744\n",
      "753\n",
      "759\n",
      "764\n",
      "772\n",
      "773\n",
      "775\n",
      "779\n",
      "785\n",
      "793\n",
      "794\n",
      "803\n",
      "807\n",
      "814\n",
      "818\n",
      "825\n",
      "831\n",
      "839\n",
      "847\n",
      "851\n",
      "860\n",
      "868\n",
      "875\n",
      "882\n",
      "884\n",
      "892\n",
      "898\n",
      "907\n",
      "913\n",
      "919\n",
      "926\n",
      "933\n",
      "937\n",
      "946\n",
      "951\n",
      "960\n",
      "967\n",
      "975\n",
      "983\n",
      "992\n",
      "1000\n",
      "1005\n",
      "1008\n",
      "1009\n",
      "1013\n",
      "1015\n",
      "1016\n",
      "1019\n",
      "1022\n",
      "1022\n",
      "1028\n",
      "1034\n",
      "1043\n",
      "1052\n",
      "1059\n",
      "1060\n",
      "1069\n",
      "1071\n",
      "1072\n",
      "1072\n",
      "1081\n",
      "1088\n",
      "1093\n",
      "1099\n",
      "1104\n",
      "1111\n",
      "1119\n",
      "1126\n",
      "1128\n",
      "1136\n",
      "1145\n",
      "1146\n",
      "1148\n",
      "1152\n",
      "1156\n",
      "1160\n",
      "1164\n",
      "1170\n",
      "1174\n",
      "1176\n",
      "1176\n",
      "1178\n",
      "1186\n",
      "1193\n",
      "1194\n",
      "1200\n",
      "1202\n",
      "1202\n",
      "1211\n",
      "1217\n",
      "1225\n",
      "1227\n",
      "1228\n",
      "1236\n",
      "1238\n",
      "1247\n",
      "1250\n",
      "1259\n",
      "1263\n",
      "1266\n",
      "1270\n",
      "1272\n"
     ]
    }
   ],
   "source": [
    "sum=0\n",
    "file=open('regex_sum_27824.txt','r')\n",
    "data1=file.read()\n",
    "data2=re.findall('[0-9]',data1)\n",
    "for i in data2:\n",
    "    sum+=int(i)\n",
    "    print(sum)\n",
    "    file.close()"
   ]
  },
  {
   "cell_type": "markdown",
   "metadata": {},
   "source": [
    "## map()"
   ]
  },
  {
   "cell_type": "code",
   "execution_count": 6,
   "metadata": {},
   "outputs": [
    {
     "name": "stdout",
     "output_type": "stream",
     "text": [
      "<map object at 0x000001A37A96A7B8>\n"
     ]
    }
   ],
   "source": [
    "x=map(int,data2)\n",
    "print(x)"
   ]
  },
  {
   "cell_type": "code",
   "execution_count": 7,
   "metadata": {},
   "outputs": [
    {
     "name": "stdout",
     "output_type": "stream",
     "text": [
      "[7, 9, 7, 1, 3, 6, 3, 4, 6, 0, 5, 7, 5, 7, 8, 9, 4, 7, 0, 1, 2, 4, 1, 2, 2, 1, 6, 9, 7, 8, 3, 1, 6, 9, 0, 5, 8, 9, 5, 5, 7, 2, 6, 8, 0, 7, 6, 1, 1, 9, 9, 3, 7, 2, 1, 8, 2, 1, 3, 1, 4, 5, 3, 3, 0, 6, 5, 5, 8, 4, 1, 0, 8, 2, 4, 3, 9, 6, 7, 2, 5, 4, 7, 8, 2, 3, 7, 0, 2, 4, 0, 2, 4, 5, 1, 5, 1, 6, 6, 9, 3, 5, 8, 1, 2, 0, 0, 0, 2, 4, 7, 7, 8, 4, 2, 9, 7, 5, 5, 7, 5, 2, 7, 2, 7, 1, 9, 3, 4, 7, 9, 0, 1, 1, 4, 3, 7, 7, 4, 7, 1, 7, 9, 8, 3, 6, 0, 4, 4, 2, 5, 2, 6, 6, 8, 6, 7, 4, 1, 5, 7, 7, 2, 4, 3, 5, 4, 9, 6, 5, 8, 1, 2, 4, 6, 8, 1, 9, 4, 7, 4, 7, 6, 8, 8, 4, 9, 8, 7, 7, 2, 8, 6, 9, 6, 6, 7, 7, 4, 9, 5, 9, 7, 8, 8, 9, 8, 5, 3, 1, 4, 2, 1, 3, 3, 0, 6, 6, 9, 9, 7, 1, 9, 2, 1, 0, 9, 7, 5, 6, 5, 7, 8, 7, 2, 8, 9, 1, 2, 4, 4, 4, 4, 6, 4, 2, 0, 2, 8, 7, 1, 6, 2, 0, 9, 6, 8, 2, 1, 8, 2, 9, 3, 9, 4, 3, 4, 2]\n"
     ]
    }
   ],
   "source": [
    "m=list(x)\n",
    "print(m)"
   ]
  },
  {
   "cell_type": "code",
   "execution_count": 8,
   "metadata": {},
   "outputs": [
    {
     "name": "stdout",
     "output_type": "stream",
     "text": [
      "[49, 81, 49, 1, 9, 36, 9, 16, 36, 0, 25, 49, 25, 49, 64, 81, 16, 49, 0, 1, 4, 16, 1, 4, 4, 1, 36, 81, 49, 64, 9, 1, 36, 81, 0, 25, 64, 81, 25, 25, 49, 4, 36, 64, 0, 49, 36, 1, 1, 81, 81, 9, 49, 4, 1, 64, 4, 1, 9, 1, 16, 25, 9, 9, 0, 36, 25, 25, 64, 16, 1, 0, 64, 4, 16, 9, 81, 36, 49, 4, 25, 16, 49, 64, 4, 9, 49, 0, 4, 16, 0, 4, 16, 25, 1, 25, 1, 36, 36, 81, 9, 25, 64, 1, 4, 0, 0, 0, 4, 16, 49, 49, 64, 16, 4, 81, 49, 25, 25, 49, 25, 4, 49, 4, 49, 1, 81, 9, 16, 49, 81, 0, 1, 1, 16, 9, 49, 49, 16, 49, 1, 49, 81, 64, 9, 36, 0, 16, 16, 4, 25, 4, 36, 36, 64, 36, 49, 16, 1, 25, 49, 49, 4, 16, 9, 25, 16, 81, 36, 25, 64, 1, 4, 16, 36, 64, 1, 81, 16, 49, 16, 49, 36, 64, 64, 16, 81, 64, 49, 49, 4, 64, 36, 81, 36, 36, 49, 49, 16, 81, 25, 81, 49, 64, 64, 81, 64, 25, 9, 1, 16, 4, 1, 9, 9, 0, 36, 36, 81, 81, 49, 1, 81, 4, 1, 0, 81, 49, 25, 36, 25, 49, 64, 49, 4, 64, 81, 1, 4, 16, 16, 16, 16, 36, 16, 4, 0, 4, 64, 49, 1, 36, 4, 0, 81, 36, 64, 4, 1, 64, 4, 81, 9, 81, 16, 9, 16, 4]\n"
     ]
    }
   ],
   "source": [
    "sq=list(map(lambda x:x**2,m))\n",
    "print(sq)"
   ]
  },
  {
   "cell_type": "markdown",
   "metadata": {},
   "source": [
    "## filter"
   ]
  },
  {
   "cell_type": "code",
   "execution_count": 18,
   "metadata": {},
   "outputs": [
    {
     "name": "stdout",
     "output_type": "stream",
     "text": [
      "[36, 36, 36, 36, 36, 36, 36, 36, 36, 36, 36, 36, 36, 36, 36, 36, 36, 36, 36, 36, 36, 36, 36, 36, 36, 36]\n",
      "None\n"
     ]
    }
   ],
   "source": [
    "m4=print(list(filter(lambda x:x%2== 0 and x%3==0 and x!=0,sq)))\n",
    "print(m4)"
   ]
  },
  {
   "cell_type": "code",
   "execution_count": 15,
   "metadata": {},
   "outputs": [
    {
     "name": "stdout",
     "output_type": "stream",
     "text": [
      "[36, 36, 36, 36, 36, 36, 36, 36, 36, 36, 36, 36, 36, 36, 36, 36, 36, 36, 36, 36, 36, 36, 36, 36, 36, 36]\n",
      "None\n"
     ]
    }
   ],
   "source": [
    "\n",
    "m3=print(list(filter(lambda x:x%36== 0  and x!=0,sq)))\n",
    "print(m3)"
   ]
  },
  {
   "cell_type": "code",
   "execution_count": 35,
   "metadata": {},
   "outputs": [
    {
     "name": "stdout",
     "output_type": "stream",
     "text": [
      "[46, 46, 46, 46, 46, 46, 46, 46, 46, 46, 46, 46, 46, 46, 46, 46, 46, 46, 46, 46, 46, 46, 46, 46, 46, 46]\n"
     ]
    }
   ],
   "source": [
    "m5=list(filter(lambda x:x%2== 0 and x%3==0 and x!=0,sq))\n",
    "m6=list(map(lambda x:x+10,m5))\n",
    "print(m6)"
   ]
  },
  {
   "cell_type": "code",
   "execution_count": 22,
   "metadata": {},
   "outputs": [
    {
     "name": "stdout",
     "output_type": "stream",
     "text": [
      "[36, 36, 36, 36, 36, 36, 36, 36, 36, 36, 36, 36, 36, 36, 36, 36, 36, 36, 36, 36, 36, 36, 36, 36, 36, 36]\n"
     ]
    }
   ],
   "source": [
    "print(list(filter(lambda x:x%2== 0 and x%3==0 and x!=0,sq)))"
   ]
  },
  {
   "cell_type": "code",
   "execution_count": 33,
   "metadata": {},
   "outputs": [
    {
     "name": "stdout",
     "output_type": "stream",
     "text": [
      "[36, 36, 36, 36, 36, 36, 36, 36, 36, 36, 36, 36, 36, 36, 36, 36, 36, 36, 36, 36, 36, 36, 36, 36, 36, 36]\n"
     ]
    }
   ],
   "source": [
    "m7=list(filter(lambda x:x%2== 0 and x%3==0 and x!=0,sq))\n",
    "print(m7)"
   ]
  },
  {
   "cell_type": "code",
   "execution_count": 34,
   "metadata": {},
   "outputs": [
    {
     "name": "stdout",
     "output_type": "stream",
     "text": [
      "[46, 46, 46, 46, 46, 46, 46, 46, 46, 46, 46, 46, 46, 46, 46, 46, 46, 46, 46, 46, 46, 46, 46, 46, 46, 46]\n"
     ]
    }
   ],
   "source": [
    "m8=list(map(lambda x:x+10,m7))\n",
    "print(m8)"
   ]
  },
  {
   "cell_type": "markdown",
   "metadata": {},
   "source": [
    "## list comprehension"
   ]
  },
  {
   "cell_type": "code",
   "execution_count": 1,
   "metadata": {},
   "outputs": [
    {
     "name": "stdout",
     "output_type": "stream",
     "text": [
      "[4, 16, 36, 64, 100, 144, 196, 256, 324, 400, 484, 576, 676, 784, 900, 1024, 1156, 1296, 1444, 1600, 1764, 1936, 2116, 2304, 2500, 2704, 2916, 3136, 3364, 3600, 3844, 4096, 4356, 4624, 4900, 5184, 5476, 5776, 6084, 6400, 6724, 7056, 7396, 7744, 8100, 8464, 8836, 9216, 9604, 10000]\n"
     ]
    }
   ],
   "source": [
    "m=[]\n",
    "for i in range(1,101):\n",
    "    if i%2==0:\n",
    "        m.append(i**2)\n",
    "print(m)    "
   ]
  },
  {
   "cell_type": "code",
   "execution_count": 31,
   "metadata": {},
   "outputs": [
    {
     "name": "stdout",
     "output_type": "stream",
     "text": [
      "[4, 16, 36, 64, 100, 144, 196, 256, 324, 400, 484, 576, 676, 784, 900, 1024, 1156, 1296, 1444, 1600, 1764, 1936, 2116, 2304, 2500, 2704, 2916, 3136, 3364, 3600, 3844, 4096, 4356, 4624, 4900, 5184, 5476, 5776, 6084, 6400, 6724, 7056, 7396, 7744, 8100, 8464, 8836, 9216, 9604, 10000]\n"
     ]
    }
   ],
   "source": [
    "mi=[i**2 for i in range(1,101) if i%2==0]\n",
    "print(mi)"
   ]
  },
  {
   "cell_type": "code",
   "execution_count": 32,
   "metadata": {},
   "outputs": [
    {
     "name": "stdout",
     "output_type": "stream",
     "text": [
      "[16, 64, 144, 256, 400, 576, 784, 1024, 1296, 1600, 1936, 2304, 2704, 3136, 3600, 4096, 4624, 5184, 5776, 6400, 7056, 7744, 8464, 9216, 10000]\n"
     ]
    }
   ],
   "source": [
    "mj=[i**2 for i in range(1,101)if i%2==0 and i%4==0]\n",
    "print(mj)"
   ]
  },
  {
   "cell_type": "code",
   "execution_count": 46,
   "metadata": {},
   "outputs": [
    {
     "name": "stdout",
     "output_type": "stream",
     "text": [
      "['o', 'o', 'a', 'i']\n"
     ]
    }
   ],
   "source": [
    "s='pythonprogramming'\n",
    "letters=[i for i in s if i in 'aeiou']\n",
    "print(letters)"
   ]
  },
  {
   "cell_type": "code",
   "execution_count": 47,
   "metadata": {},
   "outputs": [
    {
     "name": "stdout",
     "output_type": "stream",
     "text": [
      "['e', 'e', 'i', 'a']\n"
     ]
    }
   ],
   "source": [
    "s='deekshitha'\n",
    "letters=[i for i in s if i in 'aeiou']\n",
    "print(letters)"
   ]
  },
  {
   "cell_type": "markdown",
   "metadata": {},
   "source": [
    "## dictionary comprehensions"
   ]
  },
  {
   "cell_type": "code",
   "execution_count": 48,
   "metadata": {},
   "outputs": [
    {
     "data": {
      "text/plain": [
       "{'key': 'value'}"
      ]
     },
     "execution_count": 48,
     "metadata": {},
     "output_type": "execute_result"
    }
   ],
   "source": [
    "d={}\n",
    "d['key']='value'\n",
    "d"
   ]
  },
  {
   "cell_type": "code",
   "execution_count": 52,
   "metadata": {},
   "outputs": [
    {
     "name": "stdout",
     "output_type": "stream",
     "text": [
      "{1: 1, 2: 4, 3: 9, 4: 16, 5: 25, 6: 36, 7: 49, 8: 64, 9: 81, 10: 100}\n"
     ]
    }
   ],
   "source": [
    "d1={}\n",
    "for i in range(1,11):\n",
    "    d1[i]=i**2\n",
    "print(d1)    "
   ]
  },
  {
   "cell_type": "code",
   "execution_count": 51,
   "metadata": {},
   "outputs": [
    {
     "data": {
      "text/plain": [
       "{1: 1, 2: 4, 3: 9, 4: 16, 5: 25, 6: 36, 7: 49, 8: 64, 9: 81, 10: 100}"
      ]
     },
     "execution_count": 51,
     "metadata": {},
     "output_type": "execute_result"
    }
   ],
   "source": [
    "{i:i**2 for i in range(1,11)}"
   ]
  },
  {
   "cell_type": "code",
   "execution_count": 66,
   "metadata": {},
   "outputs": [
    {
     "name": "stdout",
     "output_type": "stream",
     "text": [
      "{'e': 2, 'i': 1, 'a': 1}\n"
     ]
    }
   ],
   "source": [
    "s='deekshitha'\n",
    "d={i:s.count(i)for i in s if i in 'aeiou' }\n",
    "print(d)"
   ]
  },
  {
   "cell_type": "code",
   "execution_count": 58,
   "metadata": {},
   "outputs": [
    {
     "name": "stdout",
     "output_type": "stream",
     "text": [
      "{'d': 1, 'e': 2, 'k': 1, 's': 1, 'h': 2, 'i': 1, 't': 1, 'a': 1}\n"
     ]
    }
   ],
   "source": [
    "d1={}\n",
    "for i in s:\n",
    "    d1[i]=d1.get(i,0)+1\n",
    "print(d1)    "
   ]
  },
  {
   "cell_type": "code",
   "execution_count": 83,
   "metadata": {},
   "outputs": [
    {
     "data": {
      "text/plain": [
       "{'DEEKSHI': 7, 'SRI': 3, 'NIHA': 4, 'SIRI': 4, 'PRANEE': 6, 'LALITYA': 7}"
      ]
     },
     "execution_count": 83,
     "metadata": {},
     "output_type": "execute_result"
    }
   ],
   "source": [
    "words=['deekshi','sri','niha','siri','pranee','lalitya']\n",
    "{s.upper():len(s)for s in words}"
   ]
  },
  {
   "cell_type": "code",
   "execution_count": 70,
   "metadata": {},
   "outputs": [
    {
     "data": {
      "text/plain": [
       "{'deekshi': {'e': 2, 'i': 1},\n",
       " 'sri': {'i': 1},\n",
       " 'niha': {'i': 1, 'a': 1},\n",
       " 'siri': {'i': 2},\n",
       " 'pranee': {'a': 1, 'e': 2},\n",
       " 'lalitya': {'a': 2, 'i': 1}}"
      ]
     },
     "execution_count": 70,
     "metadata": {},
     "output_type": "execute_result"
    }
   ],
   "source": [
    "{i:{j:i.count(j)for j in i if j in 'aeiou'}for i in words}"
   ]
  },
  {
   "cell_type": "code",
   "execution_count": 87,
   "metadata": {},
   "outputs": [
    {
     "ename": "SyntaxError",
     "evalue": "invalid syntax (<ipython-input-87-9ff5fdd1fbcd>, line 1)",
     "output_type": "error",
     "traceback": [
      "\u001b[1;36m  File \u001b[1;32m\"<ipython-input-87-9ff5fdd1fbcd>\"\u001b[1;36m, line \u001b[1;32m1\u001b[0m\n\u001b[1;33m    {i:for i in words if list[words] }\u001b[0m\n\u001b[1;37m         ^\u001b[0m\n\u001b[1;31mSyntaxError\u001b[0m\u001b[1;31m:\u001b[0m invalid syntax\n"
     ]
    }
   ],
   "source": [
    "{i:for i in words if list[words]}"
   ]
  },
  {
   "cell_type": "code",
   "execution_count": null,
   "metadata": {},
   "outputs": [],
   "source": []
  }
 ],
 "metadata": {
  "kernelspec": {
   "display_name": "Python 3",
   "language": "python",
   "name": "python3"
  },
  "language_info": {
   "codemirror_mode": {
    "name": "ipython",
    "version": 3
   },
   "file_extension": ".py",
   "mimetype": "text/x-python",
   "name": "python",
   "nbconvert_exporter": "python",
   "pygments_lexer": "ipython3",
   "version": "3.7.3"
  }
 },
 "nbformat": 4,
 "nbformat_minor": 2
}
